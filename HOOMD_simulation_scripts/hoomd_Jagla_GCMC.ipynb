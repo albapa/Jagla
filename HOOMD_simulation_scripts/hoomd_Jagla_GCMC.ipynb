{
 "cells": [
  {
   "cell_type": "markdown",
   "metadata": {},
   "source": [
    "# Perform MC simulation on the $\\mu$ VT ensemble using HOOMD-Blue and user defined potential (hard sphere double ramp Jagla model)"
   ]
  },
  {
   "cell_type": "markdown",
   "metadata": {},
   "source": [
    "### Import necessary libraries and initialise hoomd on CPU."
   ]
  },
  {
   "cell_type": "code",
   "execution_count": null,
   "metadata": {},
   "outputs": [],
   "source": [
    "import hoomd\n",
    "import hoomd.hpmc\n",
    "import hoomd.jit\n",
    "import hoomd.hpmc.field\n",
    "import numpy as np\n",
    "import ase\n",
    "import ase.io\n",
    "from matplotlib import pyplot "
   ]
  },
  {
   "cell_type": "code",
   "execution_count": null,
   "metadata": {},
   "outputs": [],
   "source": [
    "hoomd.context.initialize('--mode=cpu');"
   ]
  },
  {
   "cell_type": "markdown",
   "metadata": {},
   "source": [
    "### Inout parameters: temperature, fugacity and initial xyz configuration. ###\n",
    "Note that the temperature is set by scaling the Jagla parameters appropriately - this is down when initialising the potential."
   ]
  },
  {
   "cell_type": "code",
   "execution_count": null,
   "metadata": {},
   "outputs": [],
   "source": [
    "at=ase.io.read(\"Jagla_hoomd_LDliq_N585.extxyz\")\n",
    "Temp=0.42 # temperature\n",
    "Fugacity=0.000025 # fugacity"
   ]
  },
  {
   "cell_type": "code",
   "execution_count": null,
   "metadata": {},
   "outputs": [],
   "source": [
    "# create HOOMD system\n",
    "cell = at.get_cell()\n",
    "pos = at.get_positions()\n",
    "nd = 1 # if reading in a smaller cell, it can be multiplied to create a larger simulation box.\n",
    "uc = hoomd.lattice.unitcell(N=len(at),\n",
    "                            a1=cell[0],\n",
    "                            a2=cell[1],\n",
    "                            a3=cell[2],\n",
    "                            dimensions=3,\n",
    "                            position=pos,\n",
    "                            type_name=['A']*len(at));\n",
    "system = hoomd.init.create_lattice(unitcell=uc, n=[nd, nd, nd]);"
   ]
  },
  {
   "cell_type": "code",
   "execution_count": null,
   "metadata": {},
   "outputs": [],
   "source": [
    "# set HOOMD MC integrator \n",
    "# initial stepsize = d\n",
    "mc = hoomd.hpmc.integrate.sphere(seed=266671, d=0.1)\n",
    "# hard sphere diameter = diameter\n",
    "mc.shape_param.set('A', diameter=1.0);"
   ]
  },
  {
   "cell_type": "markdown",
   "metadata": {},
   "source": [
    "### Jagla potential - set parameters\n",
    "patch.alpha_iso[0] = depth of potential well and patch.alpha_iso[1] = height of the repulsive ramp. In order to control the temperature of the simulation the calculation corresponds to, both of these parameters are divided by Temp.\n",
    "\n",
    "r_cut = cutoff distance the potential is truncated"
   ]
  },
  {
   "cell_type": "code",
   "execution_count": null,
   "metadata": {},
   "outputs": [],
   "source": [
    "# T* = kT/E    \n",
    "Jagla       = \"\"\"float rsq = dot(r_ij, r_ij);\n",
    "                     if (sqrt(rsq) >= 1.72f)    \n",
    "                         return -alpha_iso[0] + alpha_iso[0]*((sqrt(rsq)-1.72f)/(3.0f-1.72f));\n",
    "                     else\n",
    "                         return alpha_iso[1] - ( alpha_iso[1] + alpha_iso[0]) * (sqrt(rsq) - 1.0f)/(1.72f-1.0f);\n",
    "              \"\"\"\n",
    "\n",
    "patch = hoomd.jit.patch.user(mc=mc, r_cut=3.0, array_size=2, code=Jagla)\n",
    "patch.alpha_iso[0]=1.0/Temp\n",
    "patch.alpha_iso[1]=3.5/Temp\n",
    "print(patch.alpha_iso)"
   ]
  },
  {
   "cell_type": "code",
   "execution_count": null,
   "metadata": {},
   "outputs": [],
   "source": [
    "# quantities to be logged during MC run\n",
    "quantities=[\"hpmc_patch_energy\",\"volume\",\"num_particles\",\"pressure\",\"hpmc_overlap_count\"]\n",
    "log = hoomd.analyze.log(filename=\"LDliq585_GC.out\",quantities=quantities,period=100)"
   ]
  },
  {
   "cell_type": "code",
   "execution_count": null,
   "metadata": {},
   "outputs": [],
   "source": [
    "# set the stepsize for atom moves\n",
    "mc.set_params(d=0.13)\n",
    "# define constant chemical potential and set the fugacity to be kept fixed\n",
    "muvt = hoomd.hpmc.update.muvt(mc, seed=83701,period=1);\n",
    "muvt.set_fugacity(type='A', fugacity=Fugacity)\n",
    "# particle insertions/deletions attempted at every period, which is set 4 cycles by default in HOOMD\n",
    "# Set the period to 1 to try insertion/deletion more frequently\n",
    "muvt.set_period(period=1)\n",
    "mc.set_params(nselect=1)"
   ]
  },
  {
   "cell_type": "markdown",
   "metadata": {},
   "source": [
    "### Run simulation ###"
   ]
  },
  {
   "cell_type": "code",
   "execution_count": null,
   "metadata": {},
   "outputs": [],
   "source": [
    "hoomd.run(1000)"
   ]
  },
  {
   "cell_type": "code",
   "execution_count": null,
   "metadata": {},
   "outputs": [],
   "source": [
    "# current state of the simulation\n",
    "U = log.query(quantity=\"hpmc_patch_energy\") # potential energy (this is scaled by Temp!)\n",
    "OC = log.query(quantity=\"hpmc_overlap_count\") # overlap count of hard spheres (should be zero)\n",
    "V = log.query(quantity=\"volume\") # volume of simulation box \n",
    "n_at = len(system.particles)  # current number of particles\n",
    "print(U, OC, V, n_at)  "
   ]
  },
  {
   "cell_type": "code",
   "execution_count": null,
   "metadata": {},
   "outputs": [],
   "source": [
    "def save_config(hoomd_system,atom_types={\"A\":\"H\",\"B\":\"He\"}):\n",
    "    \n",
    "    lattice=np.array([hoomd_system.box.get_lattice_vector(i=i) for i in range(3)])\n",
    "    \n",
    "    pos=[system.particles[i].position for i in range(hoomd_system.particles.types.pdata.getN())]\n",
    "    types=[atom_types[system.particles[i].type] for i in range(hoomd_system.particles.types.pdata.getN())]\n",
    "    ase_atoms = ase.Atoms(pbc=[(True,True,True)],cell=lattice,positions=pos, symbols=types)\n",
    "    \n",
    "    ase_atoms.wrap()\n",
    "    return ase_atoms"
   ]
  },
  {
   "cell_type": "code",
   "execution_count": null,
   "metadata": {},
   "outputs": [],
   "source": [
    "current_config = save_config(system)\n",
    "ase.io.write(\"Jagla_LDliq585_GC.final.extxyz\", current_config)"
   ]
  }
 ],
 "metadata": {
  "kernelspec": {
   "display_name": "Python 3",
   "language": "python",
   "name": "python3"
  },
  "language_info": {
   "codemirror_mode": {
    "name": "ipython",
    "version": 3
   },
   "file_extension": ".py",
   "mimetype": "text/x-python",
   "name": "python",
   "nbconvert_exporter": "python",
   "pygments_lexer": "ipython3",
   "version": "3.7.6"
  }
 },
 "nbformat": 4,
 "nbformat_minor": 1
}
