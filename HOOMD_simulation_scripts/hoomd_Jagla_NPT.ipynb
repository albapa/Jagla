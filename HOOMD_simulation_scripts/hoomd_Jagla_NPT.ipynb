{
 "cells": [
  {
   "cell_type": "markdown",
   "metadata": {},
   "source": [
    "# Perform MC simulation on the NPT ensemble using HOOMD-Blue and user defined potential (hard sphere double ramp Jagla model)"
   ]
  },
  {
   "cell_type": "markdown",
   "metadata": {},
   "source": [
    "### Import necessary libraries and initialise hoomd on CPU."
   ]
  },
  {
   "cell_type": "code",
   "execution_count": null,
   "metadata": {},
   "outputs": [],
   "source": [
    "import hoomd\n",
    "import hoomd.hpmc\n",
    "import hoomd.jit\n",
    "import hoomd.hpmc.field\n",
    "import numpy as np\n",
    "import ase\n",
    "import ase.io\n",
    "from matplotlib import pyplot "
   ]
  },
  {
   "cell_type": "code",
   "execution_count": null,
   "metadata": {},
   "outputs": [],
   "source": [
    "hoomd.context.initialize('--mode=cpu');"
   ]
  },
  {
   "cell_type": "markdown",
   "metadata": {},
   "source": [
    "### Input parameters: temperature, pressure and initial xyz configuration ###\n",
    "Note that the temperature is set by scaling the Jagla parameters appropriately - this is down when initialising the potential.\n",
    "Give the pressure value as in Jagla parameters - it is converted to hoomd units later."
   ]
  },
  {
   "cell_type": "code",
   "execution_count": null,
   "metadata": {},
   "outputs": [],
   "source": [
    "at=ase.io.read(\"Jagla_hoomd_LDliq_N585.extxyz\")\n",
    "Temp=0.375 # temperature\n",
    "Press=0.1  # pressure"
   ]
  },
  {
   "cell_type": "code",
   "execution_count": null,
   "metadata": {},
   "outputs": [],
   "source": [
    "# create HOOMD system\n",
    "cell = at.get_cell()\n",
    "pos = at.get_positions()\n",
    "nd = 1 # if reading in a smaller cell, it can be multiplied to create a larger simulation box.\n",
    "uc = hoomd.lattice.unitcell(N=len(at),\n",
    "                            a1=cell[0],\n",
    "                            a2=cell[1],\n",
    "                            a3=cell[2],\n",
    "                            dimensions=3,\n",
    "                            position=pos,\n",
    "                            type_name=['A']*len(at));\n",
    "system = hoomd.init.create_lattice(unitcell=uc, n=[nd, nd, nd]);"
   ]
  },
  {
   "cell_type": "code",
   "execution_count": null,
   "metadata": {},
   "outputs": [],
   "source": [
    "# set HOOMD MC integrator \n",
    "# initial stepsize = d\n",
    "mc = hoomd.hpmc.integrate.sphere(seed=96241, d=0.1)\n",
    "# hard sphere diameter = diameter\n",
    "mc.shape_param.set('A', diameter=1.0)\n",
    "mc.set_params(nselect=1)"
   ]
  },
  {
   "cell_type": "markdown",
   "metadata": {},
   "source": [
    "### Jagla potential - set parameters\n",
    "\n",
    "``patch.alpha_iso[0]`` = depth of potential well and ``patch.alpha_iso[1]`` = height of the repulsive ramp. In order to control the temperature of the simulation the calculation corresponds to, both of these parameters are divided by ``Temp``.\n",
    "\n",
    "``r_cut`` = cutoff distance the potential is truncated "
   ]
  },
  {
   "cell_type": "code",
   "execution_count": null,
   "metadata": {},
   "outputs": [],
   "source": [
    "# T* = kT/E    \n",
    "Jagla       = \"\"\"float rsq = dot(r_ij, r_ij);\n",
    "                     if (sqrt(rsq) >= 1.72f)    \n",
    "                         return -alpha_iso[0] + alpha_iso[0]*((sqrt(rsq)-1.72f)/(3.0f-1.72f));\n",
    "                     else\n",
    "                         return alpha_iso[1] - ( alpha_iso[1] + alpha_iso[0]) * (sqrt(rsq) - 1.0f)/(1.72f-1.0f);\n",
    "              \"\"\"\n",
    "\n",
    "patch = hoomd.jit.patch.user(mc=mc, r_cut=3.0, array_size=2, code=Jagla)\n",
    "patch.alpha_iso[0]=1.0/Temp\n",
    "patch.alpha_iso[1]=3.5/Temp\n",
    "print(patch.alpha_iso)"
   ]
  },
  {
   "cell_type": "code",
   "execution_count": null,
   "metadata": {},
   "outputs": [],
   "source": [
    "## Alternative potential model: Stepwise version of the Jagla model used e.g. in \n",
    "## Luo et al. JOURNAL OF CHEMICAL PHYSICS 142, 224501 (2015)\n",
    "#\n",
    "## T* = kT/E    \n",
    "#Jagla_step  = \"\"\"float rsq = dot(r_ij, r_ij);\n",
    "#                     if (sqrt(rsq) >= 1.8f)\n",
    "#                         return -alpha_iso[0] + ((ceil((100.0*sqrt(rsq)-180.0)/16)))*0.125;\n",
    "#                     else if (sqrt(rsq) > 1.72f && sqrt(rsq) < 1.80f)\n",
    "#                         return -alpha_iso[0]; \n",
    "#                     else\n",
    "#                         return alpha_iso[1]-((ceil((100.0*sqrt(rsq)-100.0)/2))-1)*0.125;\n",
    "#              \"\"\"\n",
    "#\n",
    "#patch = hoomd.jit.patch.user(mc=mc, r_cut=3.0, array_size=2, code=Jagla_step)\n",
    "#patch.alpha_iso[0]=1.0/Temp\n",
    "#patch.alpha_iso[1]=3.5/Temp\n",
    "#print(patch.alpha_iso)"
   ]
  },
  {
   "cell_type": "code",
   "execution_count": null,
   "metadata": {},
   "outputs": [],
   "source": [
    "# quantities to be logged during MC run\n",
    "quantities=[\"hpmc_patch_energy\",\"volume\",\"hpmc_overlap_count\",\"pressure\",'lx','ly','lz']\n",
    "logfilename=\"LDliq_N585.out\"\n",
    "log = hoomd.analyze.log(filename=logfilename,quantities=quantities,period=100)"
   ]
  },
  {
   "cell_type": "code",
   "execution_count": null,
   "metadata": {},
   "outputs": [],
   "source": [
    "# set constant pressure and allow change of the simulation box\n",
    "betap = Press/Temp # see HOOMD manual: betap=p/(k_t*T)\n",
    "boxmc = hoomd.hpmc.update.boxmc(mc, betaP=betap, seed=74)"
   ]
  },
  {
   "cell_type": "code",
   "execution_count": null,
   "metadata": {},
   "outputs": [],
   "source": [
    "# set the stepsize for atom moves\n",
    "mc.set_params(d=0.13)\n",
    "# volume moves, stepsize controlled by delta, weight is the frequency of this type of box change\n",
    "boxmc.volume(delta=10.0,weight=1.0)\n",
    "# box length moves, stepsize controlled by a delta in each dimension, \n",
    "# weight is the frequency of this type of box change. If zero, the shape of the box is kept constant.\n",
    "boxmc.length(delta=(0.0,0.0,0.0), weight=0.0)"
   ]
  },
  {
   "cell_type": "markdown",
   "metadata": {},
   "source": [
    "### Run simulation ###"
   ]
  },
  {
   "cell_type": "code",
   "execution_count": null,
   "metadata": {},
   "outputs": [],
   "source": [
    "hoomd.run(500)"
   ]
  },
  {
   "cell_type": "code",
   "execution_count": null,
   "metadata": {},
   "outputs": [],
   "source": [
    "# current state of the simulation\n",
    "U = log.query(quantity=\"hpmc_patch_energy\") # potential energy (this is scaled by Temp!)\n",
    "OC = log.query(quantity=\"hpmc_overlap_count\") # overlap count of hard spheres (should be zero) \n",
    "V = log.query(quantity=\"volume\") # volume of simulation box \n",
    "print(U, OC, V)"
   ]
  },
  {
   "cell_type": "code",
   "execution_count": null,
   "metadata": {},
   "outputs": [],
   "source": [
    "data = np.genfromtxt(fname=logfilename, skip_header=True)\n",
    "pyplot.figure(figsize=(8,4), dpi=100)\n",
    "pyplot.plot(data[:,2]/len(at))\n",
    "pyplot.grid(color='k', linestyle='-', linewidth=0.1)\n",
    "pyplot.xlabel('MC step/100')\n",
    "pyplot.ylabel('Volume/atom')"
   ]
  },
  {
   "cell_type": "code",
   "execution_count": null,
   "metadata": {},
   "outputs": [],
   "source": [
    "def save_config(hoomd_system,atom_types=[\"H\"]):\n",
    "    \n",
    "    lattice=np.array([hoomd_system.box.get_lattice_vector(i=i) for i in range(3)])\n",
    "    x2 = int(lattice[[0],[0]]) / 2\n",
    "    y2 = int(lattice[[1],[1]]) / 2\n",
    "    z2 = int(lattice[[2],[2]]) / 2\n",
    "\n",
    "    ase_atoms=ase.Atoms(pbc=[(True,True,True)],cell=lattice)\n",
    "    \n",
    "    for i in range(system.particles.types.pdata.getN()):\n",
    "        i_type = hoomd_system.particles.types.pdata.getType(i)\n",
    "        i_pos = hoomd_system.particles.pdata.getPosition(i)\n",
    "        i_pos.x = i_pos.x + x2 ; i_pos.y = i_pos.y + y2 ; i_pos.z = i_pos.z + z2\n",
    "        ase_atoms.append(ase.Atom(atom_types[i_type],position=[i_pos.x,i_pos.y,i_pos.z]))\n",
    "    return ase_atoms"
   ]
  },
  {
   "cell_type": "code",
   "execution_count": null,
   "metadata": {},
   "outputs": [],
   "source": [
    "current_config = save_config(system)\n",
    "ase.io.write(\"Jagla_LDliq_N585.final.extxyz\", current_config)"
   ]
  }
 ],
 "metadata": {
  "kernelspec": {
   "display_name": "Python 3",
   "language": "python",
   "name": "python3"
  },
  "language_info": {
   "codemirror_mode": {
    "name": "ipython",
    "version": 3
   },
   "file_extension": ".py",
   "mimetype": "text/x-python",
   "name": "python",
   "nbconvert_exporter": "python",
   "pygments_lexer": "ipython3",
   "version": "3.7.4"
  }
 },
 "nbformat": 4,
 "nbformat_minor": 1
}
